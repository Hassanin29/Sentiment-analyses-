{
 "cells": [
  {
   "cell_type": "code",
   "execution_count": 4,
   "id": "935d0882-5d3a-41bc-b8d8-90cf6bab36cc",
   "metadata": {},
   "outputs": [],
   "source": [
    "from dataclasses import dataclass\n",
    "from typing import List, Tuple, Any\n",
    "\n",
    "import numpy as np\n",
    "import pandas as pd\n",
    "from tensorflow.keras.preprocessing.text import Tokenizer\n",
    "from tensorflow.keras.preprocessing.sequence import pad_sequences\n",
    "from tensorflow.keras.models import Sequential\n",
    "from tensorflow.keras.layers import Embedding, LSTM, Dense\n",
    "from sklearn.model_selection import train_test_split\n",
    "\n",
    "@dataclass\n",
    "class ModelConfig:\n",
    "    max_words: int = 1000\n",
    "    max_len: int = 100\n",
    "    embedding_dim: int = 32\n",
    "    lstm_units_1: int = 64\n",
    "    lstm_units_2: int = 32\n",
    "    dense_units: int = 16\n",
    "    test_size: float = 0.2\n",
    "    random_state: int = 42\n",
    "\n",
    "def preprocess_text_data(texts: List[str], labels: List[int], config: ModelConfig) -> Tuple[np.ndarray, np.ndarray]:\n",
    "\n",
    "    tokenizer = Tokenizer(num_words=config.max_words)\n",
    "    tokenizer.fit_on_texts(texts)\n",
    "    sequences = tokenizer.texts_to_sequences(texts)\n",
    "    X = pad_sequences(sequences, maxlen=config.max_len)\n",
    "    y = np.array(labels)\n",
    "    return X, y\n",
    "\n",
    "def create_sentiment_model(config: ModelConfig) -> Sequential:\n",
    "\n",
    "    model = Sequential([\n",
    "        Embedding(config.max_words, config.embedding_dim, input_length=config.max_len),\n",
    "        LSTM(config.lstm_units_1, return_sequences=True),\n",
    "        LSTM(config.lstm_units_2),\n",
    "        Dense(config.dense_units, activation='relu'),\n",
    "        Dense(1, activation='sigmoid')\n",
    "    ])\n",
    "    \n",
    "    model.compile(\n",
    "        optimizer='adam',\n",
    "        loss='binary_crossentropy',\n",
    "        metrics=['accuracy']\n",
    "    )\n",
    "    return model\n",
    "\n",
    "def train_sentiment_model(texts: List[str], labels: List[int], config: ModelConfig) -> Tuple[Sequential, Any]:\n",
    "\n",
    "    # Preprocess data\n",
    "    X, y = preprocess_text_data(texts, labels, config)\n",
    "    \n",
    "    # Split data\n",
    "    X_train, X_test, y_train, y_test = train_test_split(\n",
    "        X, y, \n",
    "        test_size=config.test_size, \n",
    "        random_state=config.random_state\n",
    "    )\n",
    "    \n",
    "    # Create and train model\n",
    "    model = create_sentiment_model(config)\n",
    "    history = model.fit(\n",
    "        X_train, y_train,\n",
    "        epochs=10,\n",
    "        batch_size=32,\n",
    "        validation_split=0.2\n",
    "    )\n",
    "    \n",
    "    # Evaluate model\n",
    "    loss, accuracy = model.evaluate(X_test, y_test)\n",
    "    print(f\"Test accuracy: {accuracy:.4f}\")\n",
    "    print(f\"Test loss: {loss:.4f}\")\n",
    "    \n",
    "    return model, history"
   ]
  },
  {
   "cell_type": "code",
   "execution_count": 5,
   "id": "e54f7542-c8d1-4db1-8bab-5b6cc6e1edaf",
   "metadata": {},
   "outputs": [
    {
     "name": "stdout",
     "output_type": "stream",
     "text": [
      "Epoch 1/10\n"
     ]
    },
    {
     "name": "stdout",
     "output_type": "stream",
     "text": [
      "\u001b[1m1/1\u001b[0m \u001b[32m━━━━━━━━━━━━━━━━━━━━\u001b[0m\u001b[37m\u001b[0m \u001b[1m5s\u001b[0m 5s/step - accuracy: 0.5000 - loss: 0.6930 - val_accuracy: 0.5000 - val_loss: 0.6931\n",
      "Epoch 2/10\n",
      "\u001b[1m1/1\u001b[0m \u001b[32m━━━━━━━━━━━━━━━━━━━━\u001b[0m\u001b[37m\u001b[0m \u001b[1m0s\u001b[0m 175ms/step - accuracy: 0.5000 - loss: 0.6926 - val_accuracy: 0.5000 - val_loss: 0.6931\n",
      "Epoch 3/10\n",
      "\u001b[1m1/1\u001b[0m \u001b[32m━━━━━━━━━━━━━━━━━━━━\u001b[0m\u001b[37m\u001b[0m \u001b[1m0s\u001b[0m 170ms/step - accuracy: 0.5000 - loss: 0.6929 - val_accuracy: 0.5000 - val_loss: 0.6931\n",
      "Epoch 4/10\n",
      "\u001b[1m1/1\u001b[0m \u001b[32m━━━━━━━━━━━━━━━━━━━━\u001b[0m\u001b[37m\u001b[0m \u001b[1m0s\u001b[0m 158ms/step - accuracy: 0.5000 - loss: 0.6920 - val_accuracy: 0.5000 - val_loss: 0.6930\n",
      "Epoch 5/10\n",
      "\u001b[1m1/1\u001b[0m \u001b[32m━━━━━━━━━━━━━━━━━━━━\u001b[0m\u001b[37m\u001b[0m \u001b[1m0s\u001b[0m 159ms/step - accuracy: 0.5000 - loss: 0.6916 - val_accuracy: 0.5000 - val_loss: 0.6930\n",
      "Epoch 6/10\n",
      "\u001b[1m1/1\u001b[0m \u001b[32m━━━━━━━━━━━━━━━━━━━━\u001b[0m\u001b[37m\u001b[0m \u001b[1m0s\u001b[0m 160ms/step - accuracy: 0.5000 - loss: 0.6911 - val_accuracy: 0.5000 - val_loss: 0.6929\n",
      "Epoch 7/10\n",
      "\u001b[1m1/1\u001b[0m \u001b[32m━━━━━━━━━━━━━━━━━━━━\u001b[0m\u001b[37m\u001b[0m \u001b[1m0s\u001b[0m 167ms/step - accuracy: 0.5000 - loss: 0.6906 - val_accuracy: 0.5000 - val_loss: 0.6928\n",
      "Epoch 8/10\n",
      "\u001b[1m1/1\u001b[0m \u001b[32m━━━━━━━━━━━━━━━━━━━━\u001b[0m\u001b[37m\u001b[0m \u001b[1m0s\u001b[0m 166ms/step - accuracy: 0.5000 - loss: 0.6899 - val_accuracy: 0.5000 - val_loss: 0.6927\n",
      "Epoch 9/10\n",
      "\u001b[1m1/1\u001b[0m \u001b[32m━━━━━━━━━━━━━━━━━━━━\u001b[0m\u001b[37m\u001b[0m \u001b[1m0s\u001b[0m 167ms/step - accuracy: 0.5000 - loss: 0.6890 - val_accuracy: 0.5000 - val_loss: 0.6925\n",
      "Epoch 10/10\n",
      "\u001b[1m1/1\u001b[0m \u001b[32m━━━━━━━━━━━━━━━━━━━━\u001b[0m\u001b[37m\u001b[0m \u001b[1m0s\u001b[0m 173ms/step - accuracy: 0.5000 - loss: 0.6881 - val_accuracy: 0.5000 - val_loss: 0.6923\n",
      "\u001b[1m1/1\u001b[0m \u001b[32m━━━━━━━━━━━━━━━━━━━━\u001b[0m\u001b[37m\u001b[0m \u001b[1m0s\u001b[0m 64ms/step - accuracy: 0.5000 - loss: 0.6917\n",
      "Test accuracy: 0.5000\n",
      "Test loss: 0.6917\n"
     ]
    },
    {
     "data": {
      "text/plain": [
       "<keras.src.callbacks.history.History at 0x26a189cf020>"
      ]
     },
     "execution_count": 5,
     "metadata": {},
     "output_type": "execute_result"
    }
   ],
   "source": [
    "# Sample usage\n",
    "config = ModelConfig()\n",
    "texts =[\n",
    "        \"This movie is great!\",\n",
    "        \"Terrible experience\",\n",
    "        \"I loved it\",\n",
    "        \"Very disappointing\",\n",
    "        \"Amazing film, highly recommended\",\n",
    "        \"Waste of time\",\n",
    "        \"Outstanding performance\",\n",
    "        \"Boring and predictable\",\n",
    "        \"Best movie ever\",\n",
    "        \"Don't watch this\"\n",
    "    ]\n",
    "labels = [1, 0, 1, 0,1,0,1,0,1,0]\n",
    "model, history = train_sentiment_model(texts, labels, config)\n",
    "model \n",
    "history\n"
   ]
  },
  {
   "cell_type": "code",
   "execution_count": 3,
   "id": "4e20d02f-a2f2-4d1d-9f2c-b201057468f7",
   "metadata": {},
   "outputs": [
    {
     "name": "stdout",
     "output_type": "stream",
     "text": [
      "\u001b[1m1/1\u001b[0m \u001b[32m━━━━━━━━━━━━━━━━━━━━\u001b[0m\u001b[37m\u001b[0m \u001b[1m0s\u001b[0m 350ms/step\n",
      "\n",
      "Predictions for new texts:\n",
      "Text: 'This movie is great!'\n",
      "Sentiment: Positive (confidence: 0.5027)\n",
      "\n",
      "Text: 'Terrible experience'\n",
      "Sentiment: Negative (confidence: 0.5032)\n",
      "\n",
      "Text: 'I loved it'\n",
      "Sentiment: Positive (confidence: 0.5012)\n",
      "\n",
      "Text: 'Very disappointing'\n",
      "Sentiment: Negative (confidence: 0.5041)\n",
      "\n"
     ]
    }
   ],
   "source": [
    "test_texts =[\"This movie is great!\", \"Terrible experience\", \"I loved it\", \"Very disappointing\"]\n",
    "    # Prepare test data\n",
    "tokenizer = Tokenizer(num_words=config.max_words)\n",
    "text_tokenizer = tokenizer.fit_on_texts(test_texts)\n",
    "test_sequences = tokenizer.texts_to_sequences(test_texts)\n",
    "test_data = pad_sequences(test_sequences, maxlen=config.max_len)\n",
    "    \n",
    "    # Make predictions\n",
    "predictions = model.predict(test_data)\n",
    "    \n",
    "print(\"\\nPredictions for new texts:\")\n",
    "for text, pred in zip(test_texts, predictions):\n",
    "    sentiment = \"Positive\" if pred > 0.5 else \"Negative\"\n",
    "    confidence = pred if pred > 0.5 else 1 - pred\n",
    "    print(f\"Text: '{text}'\")\n",
    "    print(f\"Sentiment: {sentiment} (confidence: {float(confidence[0]):.4f})\\n\")\n"
   ]
  },
  {
   "cell_type": "code",
   "execution_count": null,
   "id": "ce601158-7fcc-4c73-926e-5b81f1e258e7",
   "metadata": {},
   "outputs": [],
   "source": []
  }
 ],
 "metadata": {
  "kernelspec": {
   "display_name": "base",
   "language": "python",
   "name": "python3"
  },
  "language_info": {
   "codemirror_mode": {
    "name": "ipython",
    "version": 3
   },
   "file_extension": ".py",
   "mimetype": "text/x-python",
   "name": "python",
   "nbconvert_exporter": "python",
   "pygments_lexer": "ipython3",
   "version": "3.12.7"
  }
 },
 "nbformat": 4,
 "nbformat_minor": 5
}
